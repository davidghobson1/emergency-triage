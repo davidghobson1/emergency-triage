{
 "cells": [
  {
   "cell_type": "markdown",
   "metadata": {
    "id": "a6161cfe"
   },
   "source": [
    "## Model Evaluation - Balanced"
   ]
  },
  {
   "cell_type": "code",
   "execution_count": null,
   "metadata": {
    "id": "da086b43"
   },
   "outputs": [],
   "source": [
    "import numpy as np\n",
    "import pandas as pd\n",
    "\n",
    "from tensorflow.keras.models import load_model\n",
    "\n",
    "from sklearn.metrics import accuracy_score, roc_auc_score, RocCurveDisplay, ConfusionMatrixDisplay\n",
    "import matplotlib.pyplot as plt\n",
    "\n",
    "import re\n",
    "\n",
    "import pickle"
   ]
  },
  {
   "cell_type": "markdown",
   "metadata": {},
   "source": [
    "Load the test sets"
   ]
  },
  {
   "cell_type": "code",
   "execution_count": null,
   "metadata": {},
   "outputs": [],
   "source": [
    "# logistic regression and neural network\n",
    "test_feats_file = \"~/scratch/datasets/yale_new_haven/training_test_sets/balanced_dataset/features/pretrained_embeddings_cc/regression_nn/balanced_test_set.csv\"\n",
    "test_labels_file = \"~/scratch/datasets/yale_new_haven/training_test_sets/balanced_dataset/labels/yale_new_haven_balanced_test_labels.csv\""
   ]
  },
  {
   "cell_type": "code",
   "execution_count": null,
   "metadata": {},
   "outputs": [],
   "source": [
    "X_test = pd.read_csv(test_feats_file)\n",
    "y_test = pd.read_csv(test_labels_file)"
   ]
  },
  {
   "cell_type": "code",
   "execution_count": null,
   "metadata": {},
   "outputs": [],
   "source": [
    "test_ids = X_test['ID'].astype(\"int32\")"
   ]
  },
  {
   "cell_type": "code",
   "execution_count": null,
   "metadata": {},
   "outputs": [],
   "source": [
    "X_test = X_test[[col for col in X_test.columns if col != 'ID']]"
   ]
  },
  {
   "cell_type": "markdown",
   "metadata": {},
   "source": [
    "Load the models"
   ]
  },
  {
   "cell_type": "code",
   "execution_count": null,
   "metadata": {},
   "outputs": [],
   "source": [
    "nn_filepath = \"/home/mila/d/david.hobson/scratch/models/balanced/experiments/nn_pretrained_embedding_cc\""
   ]
  },
  {
   "cell_type": "code",
   "execution_count": null,
   "metadata": {},
   "outputs": [],
   "source": [
    "nn_model = load_model(nn_filepath)"
   ]
  },
  {
   "cell_type": "markdown",
   "metadata": {
    "id": "ZB_sSdeZsrlf"
   },
   "source": [
    "### Test set probability"
   ]
  },
  {
   "cell_type": "code",
   "execution_count": null,
   "metadata": {
    "colab": {
     "base_uri": "https://localhost:8080/"
    },
    "id": "28XTcTzOd2rC",
    "outputId": "faa72563-f7e2-4ed9-c8d4-e00a485092a0"
   },
   "outputs": [],
   "source": [
    "nn_loss, nn_acc = nn_model.evaluate(X_test, y_test)"
   ]
  },
  {
   "cell_type": "code",
   "execution_count": null,
   "metadata": {},
   "outputs": [],
   "source": [
    "print(f\"Test Accuracy:\\n\\tNeural Network: {np.round(nn_acc*100, 2)}\")"
   ]
  },
  {
   "cell_type": "markdown",
   "metadata": {
    "id": "rilAFFLyvATB"
   },
   "source": [
    "## AUROC"
   ]
  },
  {
   "cell_type": "markdown",
   "metadata": {},
   "source": [
    "### Scores"
   ]
  },
  {
   "cell_type": "code",
   "execution_count": null,
   "metadata": {},
   "outputs": [],
   "source": [
    "# Hong: AUROC = 0.91\n",
    "nn_auroc = roc_auc_score(y_test, nn_model.predict(X_test))"
   ]
  },
  {
   "cell_type": "code",
   "execution_count": null,
   "metadata": {},
   "outputs": [],
   "source": [
    "print(f\"Test AUROC:\\n\\tNeural Network: {np.round(nn_auroc*100, 2)}\")"
   ]
  },
  {
   "cell_type": "markdown",
   "metadata": {},
   "source": [
    "### Plots"
   ]
  },
  {
   "cell_type": "markdown",
   "metadata": {},
   "source": [
    "Neural Network"
   ]
  },
  {
   "cell_type": "code",
   "execution_count": null,
   "metadata": {},
   "outputs": [],
   "source": [
    "RocCurveDisplay.from_predictions(y_test, nn_model.predict(X_test))\n",
    "plt.show()"
   ]
  },
  {
   "cell_type": "markdown",
   "metadata": {},
   "source": [
    "### Seniors vs. Adults"
   ]
  },
  {
   "cell_type": "code",
   "execution_count": null,
   "metadata": {},
   "outputs": [],
   "source": [
    "senior_idxs_filename = \"/home/mila/d/david.hobson/scratch/datasets/yale_new_haven/demographic_indices/age_65_and_over.pickle\"\n",
    "adult_idxs_filename = \"/home/mila/d/david.hobson/scratch/datasets/yale_new_haven/demographic_indices/age_less_than_65.pickle\""
   ]
  },
  {
   "cell_type": "code",
   "execution_count": null,
   "metadata": {},
   "outputs": [],
   "source": [
    "# indices of patients 65 and older\n",
    "with open(senior_idxs_filename, 'rb') as f:\n",
    "    senior_idxs = pickle.load(f)\n",
    "    \n",
    "with open(adult_idxs_filename, 'rb') as f:\n",
    "    adult_idxs = pickle.load(f)"
   ]
  },
  {
   "cell_type": "code",
   "execution_count": null,
   "metadata": {},
   "outputs": [],
   "source": [
    "seniors_test = test_ids[test_ids.isin(senior_idxs)].index\n",
    "adults_test = test_ids[~test_ids.isin(senior_idxs)].index"
   ]
  },
  {
   "cell_type": "markdown",
   "metadata": {},
   "source": [
    "Seniors vs. Adults Scores"
   ]
  },
  {
   "cell_type": "code",
   "execution_count": null,
   "metadata": {},
   "outputs": [],
   "source": [
    "nn_loss_seniors, nn_acc_seniors = nn_model.evaluate(X_test.loc[seniors_test], y_test.loc[seniors_test])\n",
    "nn_loss_adults, nn_acc_adults = nn_model.evaluate(X_test.loc[adults_test], y_test.loc[adults_test])"
   ]
  },
  {
   "cell_type": "code",
   "execution_count": null,
   "metadata": {},
   "outputs": [],
   "source": [
    "# print(f\"Training set:\\n\\tAdults score: {np.round(adult_score_train*100, 2)}\\n\\tSeniors score: {np.round(senior_score_train*100, 2)}\")\n",
    "print(\"Test Accuracy\")\n",
    "print()\n",
    "print(f\"Neural Network:\\n\\tAdults score: {np.round(nn_acc_adults*100, 2)} (n = {len(adults_test)})\\n\\tSeniors score: {np.round(nn_acc_seniors*100, 2)} (n = {len(seniors_test)})\")"
   ]
  },
  {
   "cell_type": "markdown",
   "metadata": {},
   "source": [
    "### Confusion Matrix"
   ]
  },
  {
   "cell_type": "code",
   "execution_count": null,
   "metadata": {},
   "outputs": [],
   "source": [
    "y_pred_nn = np.round(nn_model.predict(X_test))\n",
    "\n",
    "y_pred_nn_seniors = np.round(nn_model.predict(X_test.loc[seniors_test]))\n",
    "y_pred_nn_adults = np.round(nn_model.predict(X_test.loc[adults_test]))"
   ]
  },
  {
   "cell_type": "markdown",
   "metadata": {},
   "source": [
    "Overall"
   ]
  },
  {
   "cell_type": "code",
   "execution_count": null,
   "metadata": {},
   "outputs": [],
   "source": [
    "print(\"Overall\")\n",
    "print('\\tNeural Network')\n",
    "ConfusionMatrixDisplay.from_predictions(y_test, y_pred_nn, normalize='all')"
   ]
  },
  {
   "cell_type": "markdown",
   "metadata": {},
   "source": [
    "Seniors"
   ]
  },
  {
   "cell_type": "code",
   "execution_count": null,
   "metadata": {},
   "outputs": [],
   "source": [
    "print('Seniors')\n",
    "print('\\tNeural Network')\n",
    "ConfusionMatrixDisplay.from_predictions(y_test.loc[seniors_test], y_pred_nn_seniors, normalize='true')"
   ]
  },
  {
   "cell_type": "markdown",
   "metadata": {},
   "source": [
    "Adults"
   ]
  },
  {
   "cell_type": "code",
   "execution_count": null,
   "metadata": {},
   "outputs": [],
   "source": [
    "print(\"Adults\")\n",
    "print('\\tNeural Network')\n",
    "ConfusionMatrixDisplay.from_predictions(y_test.loc[adults_test], y_pred_nn_adults, normalize='true')"
   ]
  }
 ],
 "metadata": {
  "colab": {
   "name": "Model Experiments - Hong.ipynb",
   "provenance": []
  },
  "kernelspec": {
   "display_name": "Python 3",
   "language": "python",
   "name": "python3"
  },
  "language_info": {
   "codemirror_mode": {
    "name": "ipython",
    "version": 3
   },
   "file_extension": ".py",
   "mimetype": "text/x-python",
   "name": "python",
   "nbconvert_exporter": "python",
   "pygments_lexer": "ipython3",
   "version": "3.7.6"
  }
 },
 "nbformat": 4,
 "nbformat_minor": 5
}
