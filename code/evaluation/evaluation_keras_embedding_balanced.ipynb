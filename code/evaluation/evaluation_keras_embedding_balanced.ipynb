{
 "cells": [
  {
   "cell_type": "markdown",
   "metadata": {
    "id": "a6161cfe"
   },
   "source": [
    "## Model Evaluation - Keras Embedding\n",
    "### Balanced"
   ]
  },
  {
   "cell_type": "code",
   "execution_count": null,
   "metadata": {
    "id": "da086b43"
   },
   "outputs": [],
   "source": [
    "import numpy as np\n",
    "import pandas as pd\n",
    "\n",
    "from sklearn.metrics import accuracy_score, roc_auc_score, RocCurveDisplay, ConfusionMatrixDisplay\n",
    "import matplotlib.pyplot as plt\n",
    "\n",
    "from tensorflow.keras.models import load_model\n",
    "from scipy.sparse import load_npz\n",
    "from pickle import load\n",
    "\n",
    "import re"
   ]
  },
  {
   "cell_type": "markdown",
   "metadata": {},
   "source": [
    "Load the test sets"
   ]
  },
  {
   "cell_type": "code",
   "execution_count": null,
   "metadata": {},
   "outputs": [],
   "source": [
    "# logistic regression and neural network\n",
    "test_feats_file = \"~/scratch/datasets/yale_new_haven/training_test_sets/balanced_dataset/features/normalized_preprocessing/regression_nn/yale_new_haven_balanced_test_features.csv\"\n",
    "test_labels_file = \"~/scratch/datasets/yale_new_haven/training_test_sets/balanced_dataset/labels/yale_new_haven_balanced_test_labels.csv\""
   ]
  },
  {
   "cell_type": "code",
   "execution_count": null,
   "metadata": {},
   "outputs": [],
   "source": [
    "X_test = pd.read_csv(test_feats_file)\n",
    "y_test = pd.read_csv(test_labels_file)"
   ]
  },
  {
   "cell_type": "code",
   "execution_count": null,
   "metadata": {},
   "outputs": [],
   "source": [
    "test_ids = X_test['ID'].astype(\"int32\")"
   ]
  },
  {
   "cell_type": "code",
   "execution_count": null,
   "metadata": {},
   "outputs": [],
   "source": [
    "X_test = X_test[[col for col in X_test.columns if col != 'ID']]"
   ]
  },
  {
   "cell_type": "code",
   "execution_count": null,
   "metadata": {},
   "outputs": [],
   "source": [
    "disposition_var = {'disposition'}\n",
    "demographic_vars = {'age', 'gender', 'ethnicity', 'race', 'lang',\n",
    "       'religion', 'maritalstatus', 'employstatus', 'insurance_status'}\n",
    "triage_evaluation_vars = {'dep_name', 'esi', 'arrivalmode', 'arrivalmonth', 'arrivalday', 'arrivalhour_bin'}.union({col for col in X_test.columns if 'triage_vital' in col})\n",
    "chief_complaint_vars = {col for col in X_test.columns if \"cc_\" in col}\n",
    "medication_vars = {col for col in X_test.columns if 'meds_' in col}\n",
    "hospital_usage_stats_vars = {'previousdispo', 'n_edvisits', 'n_admissions', 'n_surgeries'}\n",
    "imaging_ekg_vars = {'cxr_count','echo_count','ekg_count','otherxr_count', 'otherus_count', 'headct_count', 'otherct_count', 'mri_count','otherimg_count'}\n",
    "historical_vital_vars = {'dbp_last',\n",
    " 'dbp_max',\n",
    " 'dbp_median',\n",
    " 'dbp_min',\n",
    " 'o2_device_last',\n",
    " 'o2_device_max',\n",
    " 'o2_device_median',\n",
    " 'o2_device_min',\n",
    " 'pulse_last',\n",
    " 'pulse_max',\n",
    " 'pulse_median',\n",
    " 'pulse_min',\n",
    " 'resp_last',\n",
    " 'resp_max',\n",
    " 'resp_median',\n",
    " 'resp_min',\n",
    " 'sbp_last',\n",
    " 'sbp_max',\n",
    " 'sbp_median',\n",
    " 'sbp_min',\n",
    " 'spo2_last',\n",
    " 'spo2_max',\n",
    " 'spo2_median',\n",
    " 'spo2_min',\n",
    " 'temp_last',\n",
    " 'temp_max',\n",
    " 'temp_median',\n",
    " 'temp_min'}\n",
    "curr = disposition_var.union(demographic_vars.union(triage_evaluation_vars.union(chief_complaint_vars.union(medication_vars.union(hospital_usage_stats_vars.union(imaging_ekg_vars.union(historical_vital_vars)))))))\n",
    "past_medical_hist_vars = {col for col in X_test.columns if col not in curr and \"_\" not in col and col not in ['ID', 'previousdispo']}\n",
    "\n",
    "cc_cols = list(chief_complaint_vars)\n",
    "pmh_cols = list(past_medical_hist_vars)\n",
    "\n",
    "cc_cols.sort()\n",
    "pmh_cols.sort()"
   ]
  },
  {
   "cell_type": "code",
   "execution_count": null,
   "metadata": {},
   "outputs": [],
   "source": [
    "cc_sparse_features = load_npz('/home/mila/d/david.hobson/scratch/datasets/yale_new_haven/training_test_sets/balanced_dataset/features/keras_embeddings/cc_embedding_test_input.npz')\n",
    "cc_features = pd.DataFrame(cc_sparse_features.todense())"
   ]
  },
  {
   "cell_type": "code",
   "execution_count": null,
   "metadata": {},
   "outputs": [],
   "source": [
    "pmh_sparse_features = load_npz('/home/mila/d/david.hobson/scratch/datasets/yale_new_haven/training_test_sets/balanced_dataset/features/keras_embeddings/pmh_embedding_test_input.npz')\n",
    "pmh_features = pd.DataFrame(pmh_sparse_features.todense())"
   ]
  },
  {
   "cell_type": "code",
   "execution_count": null,
   "metadata": {},
   "outputs": [],
   "source": [
    "other_features = X_test[[col for col in X_test.columns if col not in cc_cols and col not in pmh_cols]]"
   ]
  },
  {
   "cell_type": "code",
   "execution_count": null,
   "metadata": {},
   "outputs": [],
   "source": [
    "X_test = {'other': other_features, 'cc': cc_features, 'pmh': pmh_features}"
   ]
  },
  {
   "cell_type": "markdown",
   "metadata": {},
   "source": [
    "Load the models"
   ]
  },
  {
   "cell_type": "code",
   "execution_count": null,
   "metadata": {},
   "outputs": [],
   "source": [
    "nn_filepath = \"/home/mila/d/david.hobson/scratch/models/balanced/experiments/keras_embedding\""
   ]
  },
  {
   "cell_type": "code",
   "execution_count": null,
   "metadata": {},
   "outputs": [],
   "source": [
    "nn_model = load_model(nn_filepath)"
   ]
  },
  {
   "cell_type": "markdown",
   "metadata": {
    "id": "ZB_sSdeZsrlf"
   },
   "source": [
    "### Test set probability"
   ]
  },
  {
   "cell_type": "code",
   "execution_count": null,
   "metadata": {
    "colab": {
     "base_uri": "https://localhost:8080/"
    },
    "id": "28XTcTzOd2rC",
    "outputId": "faa72563-f7e2-4ed9-c8d4-e00a485092a0"
   },
   "outputs": [],
   "source": [
    "nn_loss, nn_acc = nn_model.evaluate(X_test, y_test)"
   ]
  },
  {
   "cell_type": "code",
   "execution_count": null,
   "metadata": {},
   "outputs": [],
   "source": [
    "print(f\"Test Accuracy:\\n\\t\\n\\tNeural Network: {np.round(nn_acc*100, 2)}\")"
   ]
  },
  {
   "cell_type": "markdown",
   "metadata": {
    "id": "rilAFFLyvATB"
   },
   "source": [
    "## AUROC"
   ]
  },
  {
   "cell_type": "markdown",
   "metadata": {},
   "source": [
    "### Scores"
   ]
  },
  {
   "cell_type": "code",
   "execution_count": null,
   "metadata": {},
   "outputs": [],
   "source": [
    "# Hong: AUROC = 0.91\n",
    "nn_auroc = roc_auc_score(y_test, nn_model.predict(X_test))"
   ]
  },
  {
   "cell_type": "code",
   "execution_count": null,
   "metadata": {},
   "outputs": [],
   "source": [
    "print(f\"Test AUROC:\\n\\t\\n\\tNeural Network: {np.round(nn_auroc*100, 2)}\")"
   ]
  },
  {
   "cell_type": "markdown",
   "metadata": {},
   "source": [
    "### Plots"
   ]
  },
  {
   "cell_type": "code",
   "execution_count": null,
   "metadata": {},
   "outputs": [],
   "source": [
    "RocCurveDisplay.from_predictions(y_test, nn_model.predict(X_test))\n",
    "plt.show()"
   ]
  },
  {
   "cell_type": "markdown",
   "metadata": {},
   "source": [
    "### Seniors vs. Adults"
   ]
  },
  {
   "cell_type": "code",
   "execution_count": null,
   "metadata": {},
   "outputs": [],
   "source": [
    "senior_idxs_filename = \"/home/mila/d/david.hobson/scratch/datasets/yale_new_haven/demographic_indices/age_65_and_over.pickle\"\n",
    "adult_idxs_filename = \"/home/mila/d/david.hobson/scratch/datasets/yale_new_haven/demographic_indices/age_less_than_65.pickle\""
   ]
  },
  {
   "cell_type": "code",
   "execution_count": null,
   "metadata": {},
   "outputs": [],
   "source": [
    "# indices of patients 65 and older\n",
    "with open(senior_idxs_filename, 'rb') as f:\n",
    "    senior_idxs = load(f)\n",
    "    \n",
    "with open(adult_idxs_filename, 'rb') as f:\n",
    "    adult_idxs = load(f)"
   ]
  },
  {
   "cell_type": "code",
   "execution_count": null,
   "metadata": {},
   "outputs": [],
   "source": [
    "seniors_test = test_ids[test_ids.isin(senior_idxs)].index\n",
    "adults_test = test_ids[~test_ids.isin(senior_idxs)].index"
   ]
  },
  {
   "cell_type": "code",
   "execution_count": null,
   "metadata": {},
   "outputs": [],
   "source": [
    "X_test_seniors = {'other': other_features.loc[seniors_test], 'cc': cc_features.loc[seniors_test], 'pmh': pmh_features.loc[seniors_test]}\n",
    "X_test_adults = {'other': other_features.loc[adults_test], 'cc': cc_features.loc[adults_test], 'pmh': pmh_features.loc[adults_test]}"
   ]
  },
  {
   "cell_type": "markdown",
   "metadata": {},
   "source": [
    "Seniors vs. Adults Scores"
   ]
  },
  {
   "cell_type": "code",
   "execution_count": null,
   "metadata": {},
   "outputs": [],
   "source": [
    "nn_loss_seniors, nn_acc_seniors = nn_model.evaluate(X_test_seniors, y_test.loc[seniors_test])\n",
    "nn_loss_adults, nn_acc_adults = nn_model.evaluate(X_test_adults, y_test.loc[adults_test])"
   ]
  },
  {
   "cell_type": "code",
   "execution_count": null,
   "metadata": {},
   "outputs": [],
   "source": [
    "# print(f\"Training set:\\n\\tAdults score: {np.round(adult_score_train*100, 2)}\\n\\tSeniors score: {np.round(senior_score_train*100, 2)}\")\n",
    "print(\"Test Accuracy\")\n",
    "print()\n",
    "print(f\"Neural Network:\\n\\tAdults score: {np.round(nn_acc_adults*100, 2)} (n = {len(adults_test)})\\n\\tSeniors score: {np.round(nn_acc_seniors*100, 2)} (n = {len(seniors_test)})\")"
   ]
  },
  {
   "cell_type": "markdown",
   "metadata": {},
   "source": [
    "### Confusion Matrix"
   ]
  },
  {
   "cell_type": "code",
   "execution_count": null,
   "metadata": {},
   "outputs": [],
   "source": [
    "y_pred_nn = np.round(nn_model.predict(X_test))\n",
    "\n",
    "y_pred_nn_seniors = np.round(nn_model.predict(X_test_seniors))\n",
    "y_pred_nn_adults = np.round(nn_model.predict(X_test_adults))"
   ]
  },
  {
   "cell_type": "markdown",
   "metadata": {},
   "source": [
    "Overall"
   ]
  },
  {
   "cell_type": "code",
   "execution_count": null,
   "metadata": {},
   "outputs": [],
   "source": [
    "print(\"Overall\")\n",
    "print('\\tNeural Network')\n",
    "ConfusionMatrixDisplay.from_predictions(y_test, y_pred_nn, normalize='all')"
   ]
  },
  {
   "cell_type": "code",
   "execution_count": null,
   "metadata": {},
   "outputs": [],
   "source": [
    "print(\"Overall\")\n",
    "print('\\tNeural Network')\n",
    "ConfusionMatrixDisplay.from_predictions(y_test, y_pred_nn, normalize='all')"
   ]
  },
  {
   "cell_type": "markdown",
   "metadata": {},
   "source": [
    "Seniors"
   ]
  },
  {
   "cell_type": "code",
   "execution_count": null,
   "metadata": {},
   "outputs": [],
   "source": [
    "print('Seniors')\n",
    "print('\\tNeural Network')\n",
    "ConfusionMatrixDisplay.from_predictions(y_test.loc[seniors_test], y_pred_nn_seniors, normalize='true')"
   ]
  },
  {
   "cell_type": "markdown",
   "metadata": {},
   "source": [
    "Adults"
   ]
  },
  {
   "cell_type": "code",
   "execution_count": null,
   "metadata": {},
   "outputs": [],
   "source": [
    "print(\"Adults\")\n",
    "print('\\tNeural Network')\n",
    "ConfusionMatrixDisplay.from_predictions(y_test.loc[adults_test], y_pred_nn_adults, normalize='true')"
   ]
  }
 ],
 "metadata": {
  "colab": {
   "name": "Model Experiments - Hong.ipynb",
   "provenance": []
  },
  "kernelspec": {
   "display_name": "Python 3",
   "language": "python",
   "name": "python3"
  },
  "language_info": {
   "codemirror_mode": {
    "name": "ipython",
    "version": 3
   },
   "file_extension": ".py",
   "mimetype": "text/x-python",
   "name": "python",
   "nbconvert_exporter": "python",
   "pygments_lexer": "ipython3",
   "version": "3.7.6"
  }
 },
 "nbformat": 4,
 "nbformat_minor": 5
}
