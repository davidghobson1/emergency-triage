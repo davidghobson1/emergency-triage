{
 "cells": [
  {
   "cell_type": "markdown",
   "metadata": {},
   "source": [
    "# Comparing Huggingface Biomedical Transformer Models"
   ]
  },
  {
   "cell_type": "code",
   "execution_count": null,
   "metadata": {},
   "outputs": [],
   "source": [
    "import numpy as np\n",
    "import pandas as pd\n",
    "\n",
    "import torch\n",
    "from transformers import pipeline, AutoModel, AutoConfig, AutoTokenizer\n",
    "\n",
    "from scipy.spatial.distance import cosine\n",
    "import os"
   ]
  },
  {
   "cell_type": "markdown",
   "metadata": {},
   "source": [
    "Facebook's Bio-LM Model"
   ]
  },
  {
   "cell_type": "code",
   "execution_count": null,
   "metadata": {},
   "outputs": [],
   "source": [
    "# download is from their GitHub page\n",
    "bio_lm_filepath = \"/home/mila/d/david.hobson/scratch/code/modelling/huggingface_models/RoBERTa-large-PM-M3\"\n",
    "os.chdir(bio_lm_filepath)\n",
    "\n",
    "config = AutoConfig.from_pretrained(\n",
    "    \"RoBERTa-large-PM-M3-hf\",\n",
    ")\n",
    "model = AutoModel.from_pretrained(\"RoBERTa-large-PM-M3-hf\", config=config)\n",
    "\n",
    "biolm = pipeline('feature-extraction', model=model, tokenizer='roberta-large')"
   ]
  },
  {
   "cell_type": "markdown",
   "metadata": {},
   "source": [
    "Microsoft's PubMedBERT"
   ]
  },
  {
   "cell_type": "code",
   "execution_count": null,
   "metadata": {},
   "outputs": [],
   "source": [
    "pm_bert = pipeline('feature-extraction', model='microsoft/BiomedNLP-PubMedBERT-base-uncased-abstract-fulltext', framework='pt')"
   ]
  },
  {
   "cell_type": "markdown",
   "metadata": {},
   "source": [
    "DMIS Disease Feature Extractor"
   ]
  },
  {
   "cell_type": "code",
   "execution_count": null,
   "metadata": {},
   "outputs": [],
   "source": [
    "dmis = pipeline('feature-extraction', model='dmis-lab/biosyn-sapbert-bc5cdr-disease', framework='pt')"
   ]
  },
  {
   "cell_type": "markdown",
   "metadata": {},
   "source": [
    "## Compare Embeddings"
   ]
  },
  {
   "cell_type": "code",
   "execution_count": null,
   "metadata": {},
   "outputs": [],
   "source": [
    "def embedding_dist(a, b, feature_extractor):\n",
    "    a_embedded = np.squeeze(feature_extractor(a)).mean(axis=0)\n",
    "    b_embedded = np.squeeze(feature_extractor(b)).mean(axis=0)\n",
    "\n",
    "    return 1 - cosine(a_embedded, b_embedded)\n",
    "\n",
    "def display_embedding_dist(a, b):\n",
    "    print(f\"\"\"\n",
    "    ('{a}', '{b}'):\\n\n",
    "    \\tBio-LM: {embedding_dist(a, b, biolm)}\\n\n",
    "    \\tPubMedBERT: {embedding_dist(a, b, pm_bert)}\\n\n",
    "    \\tDMIS: {embedding_dist(a, b, dmis)}\n",
    "    \"\"\")\n",
    "    \n",
    "def embedding_df(conditions_list):\n",
    "    embedding_results = []\n",
    "    for c1, c2 in conditions_list:\n",
    "        embeddings = {}\n",
    "        embeddings['PubMedBERT'] = np.round(embedding_dist(c1, c2, pm_bert), 3)\n",
    "        embeddings['Bio-LM'] = np.round(embedding_dist(c1, c2, biolm), 3)\n",
    "        embeddings['DMIS'] = np.round(embedding_dist(c1, c2, dmis), 3)\n",
    "        embedding_results.append(embeddings)\n",
    "    return pd.DataFrame(embedding_results, index=conditions_list)"
   ]
  },
  {
   "cell_type": "code",
   "execution_count": null,
   "metadata": {},
   "outputs": [],
   "source": [
    "same_conditions = [\n",
    "    ('CVD', 'cardiovascular disease'),\n",
    "    ('COPD', 'Chronic Obstructive Pulmonary Disease'),\n",
    "    (\"AIDS\", 'HIV'),\n",
    "    ('cancer', 'neoplasms'),\n",
    "    ('womb cancer', 'uterine cancer'),\n",
    "    ('flu', 'influenza'),\n",
    "    ('COVID-19', 'coronavirus'),\n",
    "]\n",
    "\n",
    "diff_conditions =[   \n",
    "    ('CVD', 'heart attack'),\n",
    "    ('CVD', 'COPD'),\n",
    "    ('Diabetes', 'Obesity'),\n",
    "    ('Anxiety', 'Depression'),\n",
    "    ('Jaw pain', 'Pink eye'),\n",
    "    (\"CVD\", 'Nebraska'),\n",
    "    ('AIDS', 'Cotopaxi'),\n",
    "    ('')\n",
    "]"
   ]
  },
  {
   "cell_type": "code",
   "execution_count": null,
   "metadata": {},
   "outputs": [],
   "source": [
    "embedding_df(same_conditions)"
   ]
  },
  {
   "cell_type": "code",
   "execution_count": null,
   "metadata": {},
   "outputs": [],
   "source": [
    "embedding_df(diff_conditions)"
   ]
  },
  {
   "cell_type": "code",
   "execution_count": null,
   "metadata": {},
   "outputs": [],
   "source": []
  },
  {
   "cell_type": "code",
   "execution_count": null,
   "metadata": {},
   "outputs": [],
   "source": [
    "# case sensitive, uses byte-level BPE tokenization\n",
    "t = AutoTokenizer.from_pretrained(\"roberta-large\")"
   ]
  },
  {
   "cell_type": "code",
   "execution_count": null,
   "metadata": {},
   "outputs": [],
   "source": [
    "t(\"I have cancer\")"
   ]
  },
  {
   "cell_type": "code",
   "execution_count": null,
   "metadata": {},
   "outputs": [],
   "source": [
    "t.decode(t(\"hiv\")['input_ids'])"
   ]
  },
  {
   "cell_type": "markdown",
   "metadata": {},
   "source": [
    "## Cluster the embeddings"
   ]
  },
  {
   "cell_type": "code",
   "execution_count": null,
   "metadata": {},
   "outputs": [],
   "source": [
    "from scipy.cluster.hierarchy import linkage, fcluster"
   ]
  },
  {
   "cell_type": "code",
   "execution_count": null,
   "metadata": {},
   "outputs": [],
   "source": [
    "df_vars = pd.read_csv(\"~/scratch/datasets/yale_new_haven/supplementary_info/variable_descriptions.csv\")"
   ]
  },
  {
   "cell_type": "code",
   "execution_count": null,
   "metadata": {
    "jupyter": {
     "source_hidden": true
    }
   },
   "outputs": [],
   "source": [
    "disposition_var = {'disposition'}\n",
    "\n",
    "demographic_vars = {'age', 'gender', 'ethnicity', 'race', 'lang',\n",
    "       'religion', 'maritalstatus', 'employstatus', 'insurance_status'}\n",
    "\n",
    "# department name, ESI score, arrival info, and triage vital info\n",
    "triage_evaluation_vars = {'dep_name', 'esi', 'arrivalmode', 'arrivalmonth', 'arrivalday', 'arrivalhour_bin'}.union({col for col in df_vars.columns if 'triage_vital' in col})\n",
    "\n",
    "# chief complaint info (only top 200 were included; represents >90% of the complaints)\n",
    "chief_complaint_vars = {col for col in df_vars['Variable Name'] if \"cc_\" in col}\n",
    "\n",
    "# medication info\n",
    "medication_vars = {col for col in df_vars['Variable Name'] if 'meds_' in col}\n",
    "\n",
    "hospital_usage_stats_vars = {'previousdispo', 'n_edvisits', 'n_admissions', 'n_surgeries'}\n",
    "\n",
    "# prior imaging and EKG counts\n",
    "# chest x-ray, echocardiogram, electrocardiogram (EKG), other x-ray, other ultra-sound, head CT, other CT, MRI, and all other imaging\n",
    "imaging_ekg_vars = {'cxr_count','echo_count','ekg_count','otherxr_count', 'otherus_count', 'headct_count', 'otherct_count', 'mri_count','otherimg_count'}\n",
    "\n",
    "# historic vitals include: systolic blood pressure, diastolic blood pressure, pulse, respiratory rate, oxygen saturation, presence of oxygen device, and temperature\n",
    "historical_vital_vars = {'dbp_last',\n",
    " 'dbp_max',\n",
    " 'dbp_median',\n",
    " 'dbp_min',\n",
    " 'o2_device_last',\n",
    " 'o2_device_max',\n",
    " 'o2_device_median',\n",
    " 'o2_device_min',\n",
    " 'pulse_last',\n",
    " 'pulse_max',\n",
    " 'pulse_median',\n",
    " 'pulse_min',\n",
    " 'resp_last',\n",
    " 'resp_max',\n",
    " 'resp_median',\n",
    " 'resp_min',\n",
    " 'sbp_last',\n",
    " 'sbp_max',\n",
    " 'sbp_median',\n",
    " 'sbp_min',\n",
    " 'spo2_last',\n",
    " 'spo2_max',\n",
    " 'spo2_median',\n",
    " 'spo2_min',\n",
    " 'temp_last',\n",
    " 'temp_max',\n",
    " 'temp_median',\n",
    " 'temp_min'}\n",
    "\n",
    "curr = disposition_var.union(demographic_vars.union(triage_evaluation_vars.union(chief_complaint_vars.union(medication_vars.union(hospital_usage_stats_vars.union(imaging_ekg_vars.union(historical_vital_vars)))))))\n",
    "\n",
    "# past medical history\n",
    "past_medical_hist_vars = {col for col in df_vars['Variable Name'] if col not in curr and \"_\" not in col and 'previousdispo' not in col}\n",
    "\n",
    "curr = curr.union(past_medical_hist_vars)\n",
    "\n",
    "# historical labs ordered by ED (only top 150 comprising of 94% of all orders)\n",
    "historical_lab_vars = {col for col in df_vars['Variable Name'] if col not in curr}"
   ]
  },
  {
   "cell_type": "code",
   "execution_count": null,
   "metadata": {},
   "outputs": [],
   "source": [
    "def cluster(df_tmp, clustering_features, d_thres='0.1', method='complete'):\n",
    "    df_tmp = df_tmp[df_tmp['Variable Name'].isin(clustering_features)][['Variable Name', 'Description']]\n",
    "    embeddings = np.array([np.squeeze(feature_extraction(desc)).mean(axis=0) for desc in df_tmp['Description']])\n",
    "    \n",
    "    Z = linkage(embeddings, method=method, metric='cosine')\n",
    "    \n",
    "    clustering = fcluster(Z, d_thres, criterion='distance')\n",
    "    df_tmp['Cluster'] = pd.Series(clustering, index=df_tmp.index)\n",
    "    \n",
    "    return df_tmp"
   ]
  },
  {
   "cell_type": "code",
   "execution_count": null,
   "metadata": {},
   "outputs": [],
   "source": [
    "clustering_features = list(past_medical_hist_vars)"
   ]
  },
  {
   "cell_type": "code",
   "execution_count": null,
   "metadata": {},
   "outputs": [],
   "source": [
    "df_cc = df_vars[df_vars['Variable Name'].isin(clustering_features)][['Variable Name', 'Description']]"
   ]
  },
  {
   "cell_type": "code",
   "execution_count": null,
   "metadata": {},
   "outputs": [],
   "source": [
    "cc_embeddings = np.array([np.squeeze(feature_extraction(cc)).mean(axis=0) for cc in df_cc['Description']])"
   ]
  },
  {
   "cell_type": "code",
   "execution_count": null,
   "metadata": {},
   "outputs": [],
   "source": [
    "Z = linkage(cc_embeddings, method='complete', metric='cosine')"
   ]
  },
  {
   "cell_type": "code",
   "execution_count": null,
   "metadata": {},
   "outputs": [],
   "source": []
  },
  {
   "cell_type": "code",
   "execution_count": null,
   "metadata": {},
   "outputs": [],
   "source": [
    "d_thres = 0.15"
   ]
  },
  {
   "cell_type": "code",
   "execution_count": null,
   "metadata": {},
   "outputs": [],
   "source": [
    "clustering = fcluster(Z, d_thres, criterion='distance')"
   ]
  },
  {
   "cell_type": "code",
   "execution_count": null,
   "metadata": {},
   "outputs": [],
   "source": [
    "df_cc['Cluster'] = pd.Series(clustering, index=df_cc.index)"
   ]
  },
  {
   "cell_type": "code",
   "execution_count": null,
   "metadata": {},
   "outputs": [],
   "source": [
    "cluster_dict = {i: [] for i in df_cc['Cluster'].sort_values().unique()}\n",
    "for i, row in df_cc.iterrows():\n",
    "    cluster_dict[row['Cluster']].append(row['Description'])"
   ]
  },
  {
   "cell_type": "code",
   "execution_count": null,
   "metadata": {},
   "outputs": [],
   "source": [
    "for i in cluster_dict:\n",
    "    print(f\"{i}) {cluster_dict[i]}\")\n",
    "    print()"
   ]
  },
  {
   "cell_type": "code",
   "execution_count": null,
   "metadata": {},
   "outputs": [],
   "source": [
    "df = pd.read_csv(\"~/scratch/datasets/yale_new_haven/training_test_sets/second_split/features/regression_nn/yale_new_haven_test_features.csv\")"
   ]
  },
  {
   "cell_type": "code",
   "execution_count": null,
   "metadata": {},
   "outputs": [],
   "source": [
    "cc_vars = [col for col in df.columns if \"cc_\" in col]"
   ]
  },
  {
   "cell_type": "code",
   "execution_count": null,
   "metadata": {},
   "outputs": [],
   "source": [
    "df_vars = pd.read_csv(\"~/scratch/datasets/yale_new_haven/supplementary_info/variable_descriptions.csv\")"
   ]
  },
  {
   "cell_type": "code",
   "execution_count": null,
   "metadata": {},
   "outputs": [],
   "source": [
    "var_desc_dict = dict()\n",
    "for i, row in df_vars[['Variable Name', 'Description']][df_vars['Variable Name'].isin(cc_vars)].iterrows():\n",
    "    var_desc_dict[row['Variable Name']] = row['Description']"
   ]
  },
  {
   "cell_type": "code",
   "execution_count": null,
   "metadata": {},
   "outputs": [],
   "source": [
    "problems = df[cc_vars].T.apply(lambda x: [var_desc_dict[i] for i in x[x == 1].index])"
   ]
  },
  {
   "cell_type": "code",
   "execution_count": null,
   "metadata": {},
   "outputs": [],
   "source": [
    "# some people have no problems... What to do about them...?\n",
    "# zeros will kill all the weights I guess..."
   ]
  },
  {
   "cell_type": "code",
   "execution_count": null,
   "metadata": {},
   "outputs": [],
   "source": [
    "problems"
   ]
  },
  {
   "cell_type": "code",
   "execution_count": null,
   "metadata": {},
   "outputs": [],
   "source": [
    "kk = problems[problems.apply(lambda x: len(x)) > 1].index"
   ]
  },
  {
   "cell_type": "code",
   "execution_count": null,
   "metadata": {},
   "outputs": [],
   "source": [
    "problems[kk[1]]"
   ]
  },
  {
   "cell_type": "code",
   "execution_count": null,
   "metadata": {},
   "outputs": [],
   "source": [
    "ep = problems[:100].apply(lambda x: np.array([np.squeeze(feature_extraction(problem)).mean(axis=0) for problem in x]).mean(axis=0))"
   ]
  },
  {
   "cell_type": "code",
   "execution_count": null,
   "metadata": {},
   "outputs": [],
   "source": [
    "# storing the embeddings of all of the complaints is going to take A LOT of memory... \n",
    "# ~200,000 x 768 floats just for the complaints (non-zero...)\n",
    "np.squeeze(feature_extraction('HIV')).dtype"
   ]
  },
  {
   "cell_type": "code",
   "execution_count": null,
   "metadata": {},
   "outputs": [],
   "source": [
    "np.array(l).mean(axis=0).shape"
   ]
  },
  {
   "cell_type": "code",
   "execution_count": null,
   "metadata": {},
   "outputs": [],
   "source": []
  }
 ],
 "metadata": {
  "kernelspec": {
   "display_name": "Python 3",
   "language": "python",
   "name": "python3"
  },
  "language_info": {
   "codemirror_mode": {
    "name": "ipython",
    "version": 3
   },
   "file_extension": ".py",
   "mimetype": "text/x-python",
   "name": "python",
   "nbconvert_exporter": "python",
   "pygments_lexer": "ipython3",
   "version": "3.7.6"
  }
 },
 "nbformat": 4,
 "nbformat_minor": 4
}
