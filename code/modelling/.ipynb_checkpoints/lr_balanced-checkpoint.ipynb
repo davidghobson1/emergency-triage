{
 "cells": [
  {
   "cell_type": "markdown",
   "metadata": {
    "id": "a6161cfe"
   },
   "source": [
    "## Logistic Regression Training - Balanced"
   ]
  },
  {
   "cell_type": "code",
   "execution_count": null,
   "metadata": {
    "id": "da086b43"
   },
   "outputs": [],
   "source": [
    "import numpy as np\n",
    "import pandas as pd\n",
    "\n",
    "from sklearn.linear_model import LogisticRegression\n",
    "\n",
    "from sklearn.metrics import roc_auc_score#, RocCurveDisplay\n",
    "import matplotlib.pyplot as plt\n",
    "\n",
    "# Use joblib to pickle the models (suggested by sklearn)\n",
    "from joblib import dump, load"
   ]
  },
  {
   "cell_type": "code",
   "execution_count": null,
   "metadata": {},
   "outputs": [],
   "source": [
    "training_feats_filepath = \"~/scratch/datasets/yale_new_haven/training_test_sets/balanced_dataset/features/normalized_preprocessing/regression_nn/yale_new_haven_balanced_training_features.csv\"\n",
    "training_labels_filepath = \"~/scratch/datasets/yale_new_haven/training_test_sets/balanced_dataset/labels/yale_new_haven_balanced_training_labels.csv\""
   ]
  },
  {
   "cell_type": "code",
   "execution_count": null,
   "metadata": {},
   "outputs": [],
   "source": [
    "X_train = pd.read_csv(training_feats_filepath)\n",
    "y_train = pd.read_csv(training_labels_filepath)"
   ]
  },
  {
   "cell_type": "code",
   "execution_count": null,
   "metadata": {},
   "outputs": [],
   "source": [
    "train_ids = X_train['ID'].astype('int32')\n",
    "X_train = X_train[[col for col in X_train if col != 'ID']]"
   ]
  },
  {
   "cell_type": "code",
   "execution_count": null,
   "metadata": {},
   "outputs": [],
   "source": [
    "# sklearn's LogisticRegression wants a 1D array for the labels\n",
    "y_train = y_train['0'].values"
   ]
  },
  {
   "cell_type": "code",
   "execution_count": null,
   "metadata": {
    "id": "fOky07ccRv6g"
   },
   "outputs": [],
   "source": [
    "# all solvers (‘liblinear’, ‘lbfgs’, ‘newton-cg’, ‘sag’, ‘saga’) support l2 reg\n",
    "# only liblinear and saga support l1 reg\n",
    "# only sag and saga are fast for large datasets\n",
    "\n",
    "# sag or saga might be best because they are good for large datasets with sparse features\n",
    "\n",
    "solver = 'sag'        # learning algorithm\n",
    "tol = 1e-4            # error tolerance\n",
    "C = 1                 # inverse of regularization strength\n",
    "fit_intercept = True  # whether constant is added for intercept\n",
    "random_state = 2      # used when solver == ‘sag’, ‘saga’ or ‘liblinear’ to shuffle the data; if None, then it's random\n",
    "max_iter = 1000\n",
    "\n",
    "lr = LogisticRegression(solver='sag', tol=tol, C=C, fit_intercept=fit_intercept, random_state=random_state, max_iter=max_iter)"
   ]
  },
  {
   "cell_type": "code",
   "execution_count": null,
   "metadata": {
    "id": "VuGcz9EAR3YD"
   },
   "outputs": [],
   "source": [
    "clf = lr.fit(X_train, y_train)"
   ]
  },
  {
   "cell_type": "code",
   "execution_count": null,
   "metadata": {
    "colab": {
     "base_uri": "https://localhost:8080/"
    },
    "id": "8Rt3f6rRR8tt",
    "outputId": "af102cfd-0e16-4057-d7a7-63322c6d39e4"
   },
   "outputs": [],
   "source": [
    "clf.score(X_train, y_train)"
   ]
  },
  {
   "cell_type": "code",
   "execution_count": null,
   "metadata": {},
   "outputs": [],
   "source": [
    "clf_filepath = \"/home/mila/d/david.hobson/scratch/models/balanced/yale_reproduce/normalized_data/logistic_regresion_balanced.joblib\""
   ]
  },
  {
   "cell_type": "code",
   "execution_count": null,
   "metadata": {},
   "outputs": [],
   "source": [
    "dump(clf, clf_filepath) "
   ]
  },
  {
   "cell_type": "code",
   "execution_count": null,
   "metadata": {},
   "outputs": [],
   "source": []
  }
 ],
 "metadata": {
  "colab": {
   "name": "Model Experiments - Hong.ipynb",
   "provenance": []
  },
  "kernelspec": {
   "display_name": "Python 3",
   "language": "python",
   "name": "python3"
  },
  "language_info": {
   "codemirror_mode": {
    "name": "ipython",
    "version": 3
   },
   "file_extension": ".py",
   "mimetype": "text/x-python",
   "name": "python",
   "nbconvert_exporter": "python",
   "pygments_lexer": "ipython3",
   "version": "3.7.6"
  }
 },
 "nbformat": 4,
 "nbformat_minor": 5
}
