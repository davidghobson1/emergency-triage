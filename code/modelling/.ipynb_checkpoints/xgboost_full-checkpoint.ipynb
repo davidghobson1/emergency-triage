{
 "cells": [
  {
   "cell_type": "markdown",
   "metadata": {
    "id": "a6161cfe"
   },
   "source": [
    "## XGBoost Training - Full"
   ]
  },
  {
   "cell_type": "code",
   "execution_count": null,
   "metadata": {
    "id": "da086b43"
   },
   "outputs": [],
   "source": [
    "import numpy as np\n",
    "import pandas as pd\n",
    "\n",
    "import xgboost as xgb\n",
    "from xgboost import DMatrix\n",
    "\n",
    "from sklearn.metrics import accuracy_score\n",
    "from sklearn.model_selection import train_test_split\n",
    "\n",
    "import re"
   ]
  },
  {
   "cell_type": "markdown",
   "metadata": {},
   "source": [
    "Load the data"
   ]
  },
  {
   "cell_type": "code",
   "execution_count": null,
   "metadata": {},
   "outputs": [],
   "source": [
    "training_feats_filepath = \"~/scratch/datasets/yale_new_haven/training_test_sets/full_dataset/features/normalized_preprocessing/xgboost/yale_new_haven_training_features_xgb.csv\"\n",
    "training_labels_filepath = \"~/scratch/datasets/yale_new_haven/training_test_sets/full_dataset/labels/full_dataset_training_labels.csv\""
   ]
  },
  {
   "cell_type": "code",
   "execution_count": null,
   "metadata": {},
   "outputs": [],
   "source": [
    "df_train = pd.read_csv(training_feats_filepath)\n",
    "y_train = pd.read_csv(training_labels_filepath)"
   ]
  },
  {
   "cell_type": "code",
   "execution_count": null,
   "metadata": {},
   "outputs": [],
   "source": [
    "train_ids = df_train['ID'].astype('int32')\n",
    "df_train = df_train[[col for col in df_train if col != 'ID']]"
   ]
  },
  {
   "cell_type": "markdown",
   "metadata": {},
   "source": [
    "Training/Validation split"
   ]
  },
  {
   "cell_type": "code",
   "execution_count": null,
   "metadata": {},
   "outputs": [],
   "source": [
    "X_train, X_valid, y_train, y_valid = train_test_split(df_train, y_train, test_size=0.1)"
   ]
  },
  {
   "cell_type": "markdown",
   "metadata": {},
   "source": [
    "Create DMatrix's for XGBoost"
   ]
  },
  {
   "cell_type": "code",
   "execution_count": null,
   "metadata": {},
   "outputs": [],
   "source": [
    "dtrain = DMatrix(X_train, y_train)\n",
    "dvalid = DMatrix(X_valid, y_valid)"
   ]
  },
  {
   "cell_type": "code",
   "execution_count": null,
   "metadata": {},
   "outputs": [],
   "source": [
    "# needed to get rid of the memory\n",
    "df_train = 0\n",
    "X_train = 0\n",
    "X_valid = 0"
   ]
  },
  {
   "cell_type": "markdown",
   "metadata": {},
   "source": [
    "#### Setup the tree"
   ]
  },
  {
   "cell_type": "code",
   "execution_count": null,
   "metadata": {},
   "outputs": [],
   "source": [
    "params = {\n",
    "    'tree_method': 'hist',   # tree construction algorithm, 'hist' and 'gpu_hist' are recommended for large datasets\n",
    "\n",
    "    # parameters Hong used\n",
    "    'eta': 0.3,                              # learning rate\n",
    "    'nthread': 5,                            # maximum number of threads to run simulateously\n",
    "    'eval_metric': 'auc',                    # evaluation metric\n",
    "    'objective': 'binary:logistic',          # objective function\n",
    "\n",
    "    # parameters Hong optimized for\n",
    "    'max_depth': 20,                         # max depth of the tree\n",
    "    'colsample_bylevel': 0.05,               # subsample ratio of columns at each level. Subsampling occurs once for every new depth level reached in a tree. Columns are subsampled from the set of columns chosen for the current tree.\n",
    "}\n",
    "\n",
    "num_boost_round = 50                         # number of rounds for boosting \n",
    "evals=[(dtrain, 'train'), (dvalid, 'eval')]  # list of validation sets for which metrics will evaluated during training\n",
    "early_stopping_rounds=3                      # activates early stopping; Validation metric needs to improve at least once in every 'early_stopping_rounds' rounds to continue training\n",
    "verbose_eval = True                          # the evaluation metric on the validation set is printed at each boosting stage"
   ]
  },
  {
   "cell_type": "markdown",
   "metadata": {},
   "source": [
    "### Train the tree"
   ]
  },
  {
   "cell_type": "code",
   "execution_count": null,
   "metadata": {
    "scrolled": true
   },
   "outputs": [],
   "source": [
    "xgb_tree = xgb.train(params, dtrain, num_boost_round, evals=evals, early_stopping_rounds=early_stopping_rounds, verbose_eval=verbose_eval)"
   ]
  },
  {
   "cell_type": "markdown",
   "metadata": {},
   "source": [
    "### Initial Performance"
   ]
  },
  {
   "cell_type": "code",
   "execution_count": null,
   "metadata": {},
   "outputs": [],
   "source": [
    "xgb_valid_auroc = float(re.findall(\"auc:([\\d\\.]+)\", xgb_tree.eval(dvalid))[0])\n",
    "xgb_train_auroc = float(re.findall(\"auc:([\\d\\.]+)\", xgb_tree.eval(dtrain))[0])\n",
    "\n",
    "xgb_train_acc = accuracy_score(y_train, np.round(xgb_tree.predict(dtrain)))\n",
    "xgb_valid_acc = accuracy_score(y_valid, np.round(xgb_tree.predict(dvalid)))"
   ]
  },
  {
   "cell_type": "code",
   "execution_count": null,
   "metadata": {},
   "outputs": [],
   "source": [
    "print(\"AUROC\")\n",
    "print(f\"\\tTraining: {np.round(xgb_train_auroc*100, 2)}\\n\\tValidation: {np.round(xgb_valid_auroc*100, 2)}\")\n",
    "print()\n",
    "print(\"Accuracy\")\n",
    "print(f\"\\tTraining: {np.round(xgb_train_acc*100, 2)}\\n\\tValidation: {np.round(xgb_valid_acc*100, 2)}\")"
   ]
  },
  {
   "cell_type": "markdown",
   "metadata": {},
   "source": [
    "### Save model"
   ]
  },
  {
   "cell_type": "code",
   "execution_count": null,
   "metadata": {},
   "outputs": [],
   "source": [
    "model_filepath = \"/home/mila/d/david.hobson/scratch/models/full/xgboost_full.ubj\""
   ]
  },
  {
   "cell_type": "code",
   "execution_count": null,
   "metadata": {},
   "outputs": [],
   "source": [
    "xgb_tree.save_model(model_filepath)"
   ]
  },
  {
   "cell_type": "code",
   "execution_count": null,
   "metadata": {},
   "outputs": [],
   "source": []
  }
 ],
 "metadata": {
  "colab": {
   "name": "Model Experiments - Hong.ipynb",
   "provenance": []
  },
  "kernelspec": {
   "display_name": "Python 3",
   "language": "python",
   "name": "python3"
  },
  "language_info": {
   "codemirror_mode": {
    "name": "ipython",
    "version": 3
   },
   "file_extension": ".py",
   "mimetype": "text/x-python",
   "name": "python",
   "nbconvert_exporter": "python",
   "pygments_lexer": "ipython3",
   "version": "3.7.6"
  }
 },
 "nbformat": 4,
 "nbformat_minor": 5
}
