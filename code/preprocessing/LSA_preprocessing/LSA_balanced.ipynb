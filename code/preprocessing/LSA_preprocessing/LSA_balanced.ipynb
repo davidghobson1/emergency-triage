{
 "cells": [
  {
   "cell_type": "markdown",
   "metadata": {
    "id": "a6161cfe"
   },
   "source": [
    "## Yale New Haven Preprocessing - LSA\n",
    "### Balanced"
   ]
  },
  {
   "cell_type": "code",
   "execution_count": null,
   "metadata": {
    "id": "da086b43"
   },
   "outputs": [],
   "source": [
    "import numpy as np\n",
    "import pandas as pd\n",
    "\n",
    "from sklearn.feature_extraction.text import TfidfTransformer\n",
    "from sklearn.decomposition import TruncatedSVD"
   ]
  },
  {
   "cell_type": "markdown",
   "metadata": {},
   "source": [
    "Load the data"
   ]
  },
  {
   "cell_type": "code",
   "execution_count": null,
   "metadata": {},
   "outputs": [],
   "source": [
    "training_feats_filepath = \"~/scratch/datasets/yale_new_haven/training_test_sets/balanced_dataset/features/normalized_preprocessing/regression_nn/yale_new_haven_balanced_training_features.csv\"\n",
    "test_feats_filepath = \"~/scratch/datasets/yale_new_haven/training_test_sets/balanced_dataset/features/normalized_preprocessing/regression_nn/yale_new_haven_balanced_test_features.csv\""
   ]
  },
  {
   "cell_type": "code",
   "execution_count": null,
   "metadata": {},
   "outputs": [],
   "source": [
    "X_train = pd.read_csv(training_feats_filepath)\n",
    "X_test = pd.read_csv(test_feats_filepath)"
   ]
  },
  {
   "cell_type": "code",
   "execution_count": null,
   "metadata": {},
   "outputs": [],
   "source": [
    "disposition_var = {'disposition'}\n",
    "demographic_vars = {'age', 'gender', 'ethnicity', 'race', 'lang',\n",
    "       'religion', 'maritalstatus', 'employstatus', 'insurance_status'}\n",
    "triage_evaluation_vars = {'dep_name', 'esi', 'arrivalmode', 'arrivalmonth', 'arrivalday', 'arrivalhour_bin'}.union({col for col in X_train.columns if 'triage_vital' in col})\n",
    "chief_complaint_vars = {col for col in X_train.columns if \"cc_\" in col}\n",
    "medication_vars = {col for col in X_train.columns if 'meds_' in col}\n",
    "hospital_usage_stats_vars = {'previousdispo', 'n_edvisits', 'n_admissions', 'n_surgeries'}\n",
    "imaging_ekg_vars = {'cxr_count','echo_count','ekg_count','otherxr_count', 'otherus_count', 'headct_count', 'otherct_count', 'mri_count','otherimg_count'}\n",
    "historical_vital_vars = {'dbp_last',\n",
    " 'dbp_max',\n",
    " 'dbp_median',\n",
    " 'dbp_min',\n",
    " 'o2_device_last',\n",
    " 'o2_device_max',\n",
    " 'o2_device_median',\n",
    " 'o2_device_min',\n",
    " 'pulse_last',\n",
    " 'pulse_max',\n",
    " 'pulse_median',\n",
    " 'pulse_min',\n",
    " 'resp_last',\n",
    " 'resp_max',\n",
    " 'resp_median',\n",
    " 'resp_min',\n",
    " 'sbp_last',\n",
    " 'sbp_max',\n",
    " 'sbp_median',\n",
    " 'sbp_min',\n",
    " 'spo2_last',\n",
    " 'spo2_max',\n",
    " 'spo2_median',\n",
    " 'spo2_min',\n",
    " 'temp_last',\n",
    " 'temp_max',\n",
    " 'temp_median',\n",
    " 'temp_min'}\n",
    "curr = disposition_var.union(demographic_vars.union(triage_evaluation_vars.union(chief_complaint_vars.union(medication_vars.union(hospital_usage_stats_vars.union(imaging_ekg_vars.union(historical_vital_vars)))))))\n",
    "past_medical_hist_vars = {col for col in X_train.columns if col not in curr and \"_\" not in col and col not in ['ID', 'previousdispo']}\n",
    "\n",
    "cc_cols = list(chief_complaint_vars)\n",
    "pmh_cols = list(past_medical_hist_vars)\n",
    "\n",
    "cc_cols.sort()\n",
    "pmh_cols.sort()"
   ]
  },
  {
   "cell_type": "markdown",
   "metadata": {},
   "source": [
    "LSA on the Chief Complaint and the Past Medical History columns"
   ]
  },
  {
   "cell_type": "code",
   "execution_count": null,
   "metadata": {},
   "outputs": [],
   "source": [
    "tfidf_cc = TfidfTransformer()\n",
    "tfidf_pmh = TfidfTransformer()"
   ]
  },
  {
   "cell_type": "code",
   "execution_count": null,
   "metadata": {},
   "outputs": [],
   "source": [
    "cc_long_features = tfidf_cc.fit_transform(X_train[cc_cols])\n",
    "pmh_long_features = tfidf_pmh.fit_transform(X_train[pmh_cols])"
   ]
  },
  {
   "cell_type": "markdown",
   "metadata": {},
   "source": [
    "Fit SVD"
   ]
  },
  {
   "cell_type": "code",
   "execution_count": null,
   "metadata": {},
   "outputs": [],
   "source": [
    "# truncated is recommended for sparse matrices like TF-IDF\n",
    "k = 50\n",
    "tsvd_cc = TruncatedSVD(k)\n",
    "tsvd_pmh = TruncatedSVD(k)\n",
    "\n",
    "cc_train_features = tsvd_cc.fit_transform(cc_long_features)\n",
    "pmh_train_features = tsvd_pmh.fit_transform(pmh_long_features)"
   ]
  },
  {
   "cell_type": "markdown",
   "metadata": {},
   "source": [
    "Transform the training and test sets"
   ]
  },
  {
   "cell_type": "code",
   "execution_count": null,
   "metadata": {},
   "outputs": [],
   "source": [
    "# convert to df\n",
    "cc_train_features_df = pd.DataFrame(cc_train_features, columns=[f\"cc_{i}\" for i in range(cc_train_features.shape[1])])\n",
    "pmh_train_features_df = pd.DataFrame(pmh_train_features, columns=[f\"pmh_{i}\" for i in range(pmh_train_features.shape[1])])\n",
    "\n",
    "# get other features\n",
    "other_train_features = X_train[[col for col in X_train.columns if col not in cc_cols and col not in pmh_cols]]\n",
    "\n",
    "# combine results\n",
    "X_train = pd.concat([other_train_features, cc_train_features_df, pmh_train_features_df], axis=1)"
   ]
  },
  {
   "cell_type": "code",
   "execution_count": null,
   "metadata": {},
   "outputs": [],
   "source": [
    "# apply transformation\n",
    "cc_test_features = tsvd_cc.transform(tfidf_cc.transform(X_test[cc_cols]))\n",
    "pmh_test_features = tsvd_pmh.transform(tfidf_pmh.transform(X_test[pmh_cols]))\n",
    "\n",
    "# convert to df\n",
    "cc_test_features_df = pd.DataFrame(cc_test_features, columns=[f\"cc_{i}\" for i in range(cc_test_features.shape[1])])\n",
    "pmh_test_features_df = pd.DataFrame(pmh_test_features, columns=[f\"pmh_{i}\" for i in range(pmh_test_features.shape[1])])\n",
    "\n",
    "other_test_features = X_test[[col for col in X_test.columns if col not in cc_cols and col not in pmh_cols]]\n",
    "\n",
    "X_test = pd.concat([other_test_features, cc_test_features_df, pmh_test_features_df], axis=1)"
   ]
  },
  {
   "cell_type": "markdown",
   "metadata": {},
   "source": [
    "Save the results"
   ]
  },
  {
   "cell_type": "code",
   "execution_count": null,
   "metadata": {},
   "outputs": [],
   "source": [
    "X_train.to_csv(\"~/scratch/datasets/yale_new_haven/training_test_sets/balanced_dataset/features/LSA/lsa_balanced_training_features.csv\", index=False)\n",
    "X_test.to_csv(\"~/scratch/datasets/yale_new_haven/training_test_sets/balanced_dataset/features/LSA/lsa_balanced_test_features.csv\", index=False)"
   ]
  },
  {
   "cell_type": "code",
   "execution_count": null,
   "metadata": {},
   "outputs": [],
   "source": []
  }
 ],
 "metadata": {
  "colab": {
   "name": "Model Experiments - Hong.ipynb",
   "provenance": []
  },
  "kernelspec": {
   "display_name": "Python 3",
   "language": "python",
   "name": "python3"
  },
  "language_info": {
   "codemirror_mode": {
    "name": "ipython",
    "version": 3
   },
   "file_extension": ".py",
   "mimetype": "text/x-python",
   "name": "python",
   "nbconvert_exporter": "python",
   "pygments_lexer": "ipython3",
   "version": "3.7.6"
  }
 },
 "nbformat": 4,
 "nbformat_minor": 5
}
