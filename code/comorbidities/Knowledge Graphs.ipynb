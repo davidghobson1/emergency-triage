{
 "cells": [
  {
   "cell_type": "markdown",
   "metadata": {},
   "source": [
    "## Knowledge Graphs"
   ]
  },
  {
   "cell_type": "code",
   "execution_count": 60,
   "metadata": {},
   "outputs": [],
   "source": [
    "import numpy as np\n",
    "import pandas as pd\n",
    "\n",
    "import networkx as nx\n",
    "import pyvis\n",
    "from pyvis.network import Network\n",
    "import matplotlib.pyplot as plt\n",
    "\n",
    "from json import dumps"
   ]
  },
  {
   "cell_type": "code",
   "execution_count": 61,
   "metadata": {},
   "outputs": [],
   "source": [
    "df_r = pd.read_csv('/Users/David/Desktop/McGill Project/Datasets/Comorbidity/regular_full_text_search/results_df.csv')\n",
    "df_e = pd.read_csv('/Users/David/Desktop/McGill Project/Datasets/Comorbidity/elderly_full_text_search/results_df.csv')"
   ]
  },
  {
   "cell_type": "markdown",
   "metadata": {},
   "source": [
    "Fix the NaN and retrieve back the tuples of comorbidities"
   ]
  },
  {
   "cell_type": "code",
   "execution_count": 62,
   "metadata": {},
   "outputs": [],
   "source": [
    "df_r = df_r.fillna('N/A')\n",
    "df_r['comorbidity'] = df_r['comorbidity'].apply(lambda x: tuple(x.split(\"!\")))\n",
    "\n",
    "df_e = df_e.fillna('N/A')\n",
    "df_e['comorbidity'] = df_e['comorbidity'].apply(lambda x: tuple(x.split(\"!\")))"
   ]
  },
  {
   "cell_type": "markdown",
   "metadata": {},
   "source": [
    "### Comorbidity counts by (unique) article"
   ]
  },
  {
   "cell_type": "code",
   "execution_count": 63,
   "metadata": {},
   "outputs": [],
   "source": [
    "# comorbid_counts = df.groupby(by=['pmc_id', 'comorbidity']).size().reset_index().groupby(by=['comorbidity']).size().sort_values(ascending=False).to_frame().rename(columns={0:'num_articles'})"
   ]
  },
  {
   "cell_type": "code",
   "execution_count": 64,
   "metadata": {},
   "outputs": [],
   "source": [
    "comorbid_counts_r = df_r.groupby(by=['pmc_id', 'comorbidity']).size().reset_index().groupby(by=['comorbidity']).size().sort_values(ascending=False).to_frame().rename(columns={0:'num_articles'})\n",
    "comorbid_counts_e = df_e.groupby(by=['pmc_id', 'comorbidity']).size().reset_index().groupby(by=['comorbidity']).size().sort_values(ascending=False).to_frame().rename(columns={0:'num_articles'})"
   ]
  },
  {
   "cell_type": "code",
   "execution_count": 65,
   "metadata": {},
   "outputs": [],
   "source": [
    "# # add distinct columns for the comorbid diseases \n",
    "# comorbid_counts['comorbidity_1'] = comorbid_counts.index.to_frame()['comorbidity'].apply(lambda x: x[0])\n",
    "# comorbid_counts['comorbidity_2'] = comorbid_counts.index.to_frame()['comorbidity'].apply(lambda x: x[1])\n",
    "\n",
    "# # remove COVID-19 (dataset is pre-pandemic) and 'N/A' values\n",
    "# comorbid_counts = comorbid_counts[(~comorbid_counts['comorbidity_1'].isin(['COVID-19', 'N/A'])) & (~comorbid_counts['comorbidity_2'].isin(['COVID-19', 'N/A']))].reset_index(drop=True)"
   ]
  },
  {
   "cell_type": "code",
   "execution_count": 66,
   "metadata": {},
   "outputs": [],
   "source": [
    "# add distinct columns for the comorbid diseases \n",
    "comorbid_counts_r['comorbidity_1'] = comorbid_counts_r.index.to_frame()['comorbidity'].apply(lambda x: x[0])\n",
    "comorbid_counts_r['comorbidity_2'] = comorbid_counts_r.index.to_frame()['comorbidity'].apply(lambda x: x[1])\n",
    "\n",
    "# remove COVID-19 (dataset is pre-pandemic) and 'N/A' values\n",
    "comorbid_counts_r = comorbid_counts_r[(~comorbid_counts_r['comorbidity_1'].isin(['COVID-19', 'N/A', 'Disease'])) & (~comorbid_counts_r['comorbidity_2'].isin(['COVID-19', 'N/A', 'Disease']))].reset_index(drop=True)\n",
    "\n",
    "# add distinct columns for the comorbid diseases \n",
    "comorbid_counts_e['comorbidity_1'] = comorbid_counts_e.index.to_frame()['comorbidity'].apply(lambda x: x[0])\n",
    "comorbid_counts_e['comorbidity_2'] = comorbid_counts_e.index.to_frame()['comorbidity'].apply(lambda x: x[1])\n",
    "\n",
    "# remove COVID-19 (dataset is pre-pandemic) and 'N/A' values\n",
    "comorbid_counts_e = comorbid_counts_e[(~comorbid_counts_e['comorbidity_1'].isin(['COVID-19', 'N/A', 'Disease'])) & (~comorbid_counts_e['comorbidity_2'].isin(['COVID-19', 'N/A', 'Disease']))].reset_index(drop=True)"
   ]
  },
  {
   "cell_type": "markdown",
   "metadata": {},
   "source": [
    "### Create Graph"
   ]
  },
  {
   "cell_type": "markdown",
   "metadata": {},
   "source": [
    "Using networkX"
   ]
  },
  {
   "cell_type": "code",
   "execution_count": 67,
   "metadata": {},
   "outputs": [],
   "source": [
    "# using networkx and pyvis\n",
    "count_col = 'num_articles'\n",
    "n = 50\n",
    "\n",
    "# networkx\n",
    "G_r = nx.from_pandas_edgelist(df=comorbid_counts_r.head(n), source='comorbidity_1', target='comorbidity_2', edge_attr=count_col)\n",
    "\n",
    "# nx.draw(G, with_labels=True)\n",
    "\n",
    "# # nicer looking in some ways\n",
    "# pos = nx.spring_layout(G, k=7)  # For better example looking\n",
    "# nx.draw(G, pos, with_labels=True)\n",
    "# labels = {e: G.edges[e][count_col] for e in G.edges}\n",
    "# nx.draw_networkx_edge_labels(G, pos, edge_labels=labels)\n",
    "# plt.show()"
   ]
  },
  {
   "cell_type": "code",
   "execution_count": 53,
   "metadata": {},
   "outputs": [],
   "source": [
    "# using networkx and pyvis\n",
    "count_col = 'num_articles'\n",
    "n = 50\n",
    "\n",
    "# networkx\n",
    "G_e = nx.from_pandas_edgelist(df=comorbid_counts_e.head(n), source='comorbidity_1', target='comorbidity_2', edge_attr=count_col)\n",
    "\n",
    "# nx.draw(G, with_labels=True)\n",
    "\n",
    "# # nicer looking in some ways\n",
    "# pos = nx.spring_layout(G, k=7)  # For better example looking\n",
    "# nx.draw(G, pos, with_labels=True)\n",
    "# labels = {e: G.edges[e][count_col] for e in G.edges}\n",
    "# nx.draw_networkx_edge_labels(G, pos, edge_labels=labels)\n",
    "# plt.show()"
   ]
  },
  {
   "cell_type": "markdown",
   "metadata": {},
   "source": [
    "Using pyvis"
   ]
  },
  {
   "cell_type": "code",
   "execution_count": 66,
   "metadata": {},
   "outputs": [],
   "source": [
    "G_nx_r = Network('1000px', '1000px')\n",
    "G_nx_r.from_nx(G_r)\n",
    "G_nx_r.show('/Users/David/Desktop/McGill Project/Results/regular_graph_50.html')"
   ]
  },
  {
   "cell_type": "code",
   "execution_count": 58,
   "metadata": {},
   "outputs": [],
   "source": [
    "# pyvis\n",
    "G_nx_e = Network('1000px', '1000px')\n",
    "G_nx_e.from_nx(G_e)\n",
    "G_nx_e.show('/Users/David/Desktop/McGill Project/Results/elderly_graph_50.html')"
   ]
  },
  {
   "cell_type": "markdown",
   "metadata": {},
   "source": [
    "pyvis with a weighted graph"
   ]
  },
  {
   "cell_type": "code",
   "execution_count": 84,
   "metadata": {},
   "outputs": [],
   "source": [
    "G_pv_r = Network('1000px', '1000px')\n",
    "n = 50\n",
    "\n",
    "sources = comorbid_counts_r['comorbidity_1'].head(n)\n",
    "targets = comorbid_counts_r['comorbidity_2'].head(n)\n",
    "weights = comorbid_counts_r[count_col].head(n)\n",
    "\n",
    "edge_data = zip(sources, targets, weights)\n",
    "\n",
    "for e in edge_data:\n",
    "    src = e[0]\n",
    "    dst = e[1]\n",
    "    w = e[2]\n",
    "\n",
    "    G_pv_r.add_node(src, label=src, title=src)      # label is the associated label you see for each node\n",
    "    G_pv_r.add_node(dst, label=dst, title=dst)      # title allows you to see the node name when you hover over it\n",
    "    G_pv_r.add_edge(src, dst, value=w)\n",
    "\n",
    "# # create a map of the neighbours of each node\n",
    "# neighbor_map = G_pv.get_adj_list()\n",
    "# # add neighbor data to node hover data\n",
    "# for node in G_pv.nodes:\n",
    "#     node['title'] += ' Neighbors:\\n' + '\\n'.join(neighbor_map[node['id']])\n",
    "#     node['value'] = len(neighbor_map[node['id']])"
   ]
  },
  {
   "cell_type": "code",
   "execution_count": 85,
   "metadata": {},
   "outputs": [],
   "source": [
    "# G_pv_r.set_options(options=dumps({\n",
    "#   \"physics\": {\n",
    "#     \"forceAtlas2Based\": {\n",
    "#       \"springLength\": 100\n",
    "#     },\n",
    "#     \"minVelocity\": 0.75,\n",
    "#     \"solver\": \"forceAtlas2Based\"\n",
    "#   }\n",
    "# }))"
   ]
  },
  {
   "cell_type": "code",
   "execution_count": 86,
   "metadata": {},
   "outputs": [],
   "source": [
    "# G_pv_e.show_buttons(filter_=['physics'])\n",
    "G_pv_r.show(f'/Users/David/Desktop/McGill Project/Results/html/regular_weighted_graph_{n}_barnes.html')"
   ]
  },
  {
   "cell_type": "code",
   "execution_count": 87,
   "metadata": {},
   "outputs": [],
   "source": [
    "G_pv_e = Network('1000px', '1000px')\n",
    "n = 50\n",
    "\n",
    "sources = comorbid_counts_e['comorbidity_1'].head(n)\n",
    "targets = comorbid_counts_e['comorbidity_2'].head(n)\n",
    "weights = comorbid_counts_e[count_col].head(n)\n",
    "\n",
    "edge_data = zip(sources, targets, weights)\n",
    "\n",
    "for e in edge_data:\n",
    "    src = e[0]\n",
    "    dst = e[1]\n",
    "    w = e[2]\n",
    "\n",
    "    G_pv_e.add_node(src, label=src, title=src)      # label is the associated label you see for each node\n",
    "    G_pv_e.add_node(dst, label=dst, title=dst)      # title allows you to see the node name when you hover over it\n",
    "    G_pv_e.add_edge(src, dst, value=w)\n",
    "\n",
    "# # create a map of the neighbours of each node\n",
    "# neighbor_map = G_pv.get_adj_list()\n",
    "# # add neighbor data to node hover data\n",
    "# for node in G_pv.nodes:\n",
    "#     node['title'] += ' Neighbors:\\n' + '\\n'.join(neighbor_map[node['id']])\n",
    "#     node['value'] = len(neighbor_map[node['id']])"
   ]
  },
  {
   "cell_type": "code",
   "execution_count": 88,
   "metadata": {},
   "outputs": [],
   "source": [
    "# G_pv_e.set_options(options=dumps({\n",
    "#   \"physics\": {\n",
    "#     \"forceAtlas2Based\": {\n",
    "#       \"springLength\": 100\n",
    "#     },\n",
    "#     \"minVelocity\": 0.75,\n",
    "#     \"solver\": \"forceAtlas2Based\"\n",
    "#   }\n",
    "# }))"
   ]
  },
  {
   "cell_type": "code",
   "execution_count": 89,
   "metadata": {},
   "outputs": [],
   "source": [
    "# G_pv_e.show_buttons(filter_=['physics'])\n",
    "G_pv_e.show(f'/Users/David/Desktop/McGill Project/Results/html/elderly_weighted_graph_{n}_barnes.html', )"
   ]
  },
  {
   "cell_type": "code",
   "execution_count": null,
   "metadata": {},
   "outputs": [],
   "source": []
  }
 ],
 "metadata": {
  "kernelspec": {
   "display_name": "Python 3 (ipykernel)",
   "language": "python",
   "name": "python3"
  },
  "language_info": {
   "codemirror_mode": {
    "name": "ipython",
    "version": 3
   },
   "file_extension": ".py",
   "mimetype": "text/x-python",
   "name": "python",
   "nbconvert_exporter": "python",
   "pygments_lexer": "ipython3",
   "version": "3.9.12"
  }
 },
 "nbformat": 4,
 "nbformat_minor": 4
}
